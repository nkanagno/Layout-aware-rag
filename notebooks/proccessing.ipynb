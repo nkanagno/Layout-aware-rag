{
 "cells": [
  {
   "cell_type": "code",
   "execution_count": 7,
   "metadata": {},
   "outputs": [],
   "source": [
    "import sqlite3\n",
    "DATABASE = 'application.db'\n",
    "\n",
    "# Create the table if it doesn't exist\n",
    "def create_table():\n",
    "    with sqlite3.connect(DATABASE) as conn:\n",
    "        c = conn.cursor()\n",
    "        c.execute('''CREATE TABLE IF NOT EXISTS messages (\n",
    "                id INTEGER PRIMARY KEY AUTOINCREMENT,\n",
    "                user_input TEXT,\n",
    "                assistant_message TEXT,\n",
    "                source_pages TEXT,\n",
    "                time_user_input_sent TEXT,\n",
    "                time_assistant_answered TEXT\n",
    "            )''')\n",
    "        conn.commit()\n",
    "\n",
    "create_table()"
   ]
  },
  {
   "cell_type": "code",
   "execution_count": 3,
   "metadata": {},
   "outputs": [],
   "source": []
  },
  {
   "cell_type": "code",
   "execution_count": 8,
   "metadata": {},
   "outputs": [],
   "source": [
    "def select_messages():\n",
    "    with sqlite3.connect(DATABASE) as conn:\n",
    "        c = conn.cursor()\n",
    "        c.execute('''SELECT *\n",
    "                     FROM messages ORDER BY time_user_input_sent DESC''')\n",
    "        messages = c.fetchall()\n",
    "    return messages\n",
    "\n"
   ]
  },
  {
   "cell_type": "code",
   "execution_count": 4,
   "metadata": {},
   "outputs": [],
   "source": [
    "import sqlite3\n",
    "def drop_messages_table():\n",
    "    with sqlite3.connect(DATABASE) as conn:\n",
    "        c = conn.cursor()\n",
    "        c.execute(\"DROP TABLE IF EXISTS messages\")\n",
    "        conn.commit()\n",
    "drop_messages_table()"
   ]
  },
  {
   "cell_type": "code",
   "execution_count": 9,
   "metadata": {},
   "outputs": [],
   "source": [
    "messages = select_messages()\n",
    "for message in messages:\n",
    "    print(message)\n"
   ]
  },
  {
   "cell_type": "code",
   "execution_count": 12,
   "metadata": {},
   "outputs": [
    {
     "name": "stdout",
     "output_type": "stream",
     "text": [
      "/Users/100mentors/Documents/projects/diploma_project/topological rag/myenv/bin/pip: line 2: /Users/100mentors/Documents/diploma_project/topological rag/myenv/bin/python: No such file or directory\n",
      "/Users/100mentors/Documents/projects/diploma_project/topological rag/myenv/bin/pip: line 2: exec: /Users/100mentors/Documents/diploma_project/topological rag/myenv/bin/python: cannot execute: No such file or directory\n"
     ]
    }
   ],
   "source": [
    "!pip install pandas"
   ]
  },
  {
   "cell_type": "code",
   "execution_count": 19,
   "metadata": {},
   "outputs": [
    {
     "name": "stdout",
     "output_type": "stream",
     "text": [
      "      id                                               text  \\\n",
      "0      1                          ®\\n\\nCheck for\\nupdates\\n   \n",
      "1      2  Topology-aware Retrieval Augmentation for Text...   \n",
      "2      3  Yu Wang\\nyuwang@uoregon.edu\\nUniversity of Ore...   \n",
      "3      4  Alexa Siu\\nasiu@adobe.com\\nAdobe Research\\n\\nS...   \n",
      "4      5  Xin Wang\\nxin.wang.1@vanderbilt.com\\nVanderbil...   \n",
      "..   ...                                                ...   \n",
      "242  243  [73] Tong Zhao, Julian McAuley, and Irwin King...   \n",
      "243  244  [74] Hao Zhou, Tom Young, Minlie Huang, Haizho...   \n",
      "244  245  [75] Jing Zhu, Xingyu Lu, Mark Heimann, and Da...   \n",
      "245  246  aii htc — Saad | EEE LULL SLLAIVE LEELOCT PEAL...   \n",
      "246  247                                             2452\\n   \n",
      "\n",
      "                   label     page  \\\n",
      "0         Picture-0-0.91   page_1   \n",
      "1    SectionHeader-1-1.0   page_1   \n",
      "2            Text-2-0.97   page_1   \n",
      "3            Text-3-0.99   page_1   \n",
      "4             Text-4-1.0   page_1   \n",
      "..                   ...      ...   \n",
      "242      ListItem-28-1.0  page_11   \n",
      "243      ListItem-29-1.0  page_11   \n",
      "244      ListItem-30-1.0  page_11   \n",
      "245         Text-31-0.87  page_11   \n",
      "246    PageFooter-32-1.0  page_11   \n",
      "\n",
      "                                                  poly  \n",
      "0    [[7.39599609375, 183.69140625], [78.791015625,...  \n",
      "1    [[193.2421875, 217.236328125], [1447.125, 217....  \n",
      "2    [[259.58203125, 297.94921875], [513.1875, 297....  \n",
      "3    [[276.71484375, 452.05078125], [486.890625, 45...  \n",
      "4    [[225.515625, 604.1015625], [535.5, 604.101562...  \n",
      "..                                                 ...  \n",
      "242  [[844.6875, 996.09375], [1494.9375, 996.09375]...  \n",
      "243  [[845.484375, 1081.0546875], [1494.140625, 108...  \n",
      "244  [[843.890625, 1145.5078125], [1492.546875, 114...  \n",
      "245  [[892.5, 1200.1182861328125], [1498.125, 1200....  \n",
      "246  [[790.1015625, 2014.03125], [841.5, 2014.03125...  \n",
      "\n",
      "[247 rows x 5 columns]\n"
     ]
    }
   ],
   "source": [
    "\n",
    "import pandas as pd\n",
    "def select_layout_analysis():\n",
    "    with sqlite3.connect(DATABASE) as conn:\n",
    "        c = conn.cursor()\n",
    "        c.execute('''SELECT * FROM layout_analysis''')\n",
    "        layout_analysis = c.fetchall()\n",
    "    return layout_analysis\n",
    "data = select_layout_analysis()\n",
    "\n",
    "# Convert to a pandas DataFrame\n",
    "df = pd.DataFrame(data, columns=[\"id\", \"text\", \"label\", \"page\", \"poly\"])\n",
    "print(df)\n"
   ]
  }
 ],
 "metadata": {
  "kernelspec": {
   "display_name": "myenv",
   "language": "python",
   "name": "python3"
  },
  "language_info": {
   "codemirror_mode": {
    "name": "ipython",
    "version": 3
   },
   "file_extension": ".py",
   "mimetype": "text/x-python",
   "name": "python",
   "nbconvert_exporter": "python",
   "pygments_lexer": "ipython3",
   "version": "3.10.0"
  }
 },
 "nbformat": 4,
 "nbformat_minor": 2
}
