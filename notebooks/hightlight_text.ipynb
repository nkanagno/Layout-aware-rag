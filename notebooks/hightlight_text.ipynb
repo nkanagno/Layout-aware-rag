{
 "cells": [
  {
   "cell_type": "code",
   "execution_count": null,
   "metadata": {},
   "outputs": [],
   "source": [
    "def processed_chunk(chunks):\n",
    "    # Split by newline and store in list\n",
    "    lines = chunk.split('\\n')\n",
    "    search_texts = []\n",
    "    i = 0\n",
    "    while i < len(lines):\n",
    "        line = lines[i]\n",
    "        if line.endswith('-') and i + 1 < len(lines):\n",
    "            # Remove hyphen and append next line directly\n",
    "            merged = line[:-1] + lines[i + 1].lstrip()\n",
    "            search_texts.append(merged)\n",
    "            i += 2  # Skip next line since we already used it\n",
    "        else:\n",
    "            search_texts.append(line)\n",
    "            i += 1\n",
    "    return search_texts"
   ]
  },
  {
   "cell_type": "code",
   "execution_count": 54,
   "metadata": {},
   "outputs": [
    {
     "name": "stdout",
     "output_type": "stream",
     "text": [
      "['ce domains. This', 'further justifies why TopoRAG achieves almost consistently higher', 'performance than other baselines on all these datasets.', '', '', '-RAG in', 'addressing missing feature issues in graph machine learning tasks.', '', 'Recognizing the importance of not only considering the quantity', 'but also the structure of input knowledge in text generation [62],', 'future work will focus on optimizing input formats by leveraging topological signals for question-answering and text-generation', 'tasks. Moreover, we plan to assess the robustness of the TopoRAG', 'framework by exploring the potential of attacking/defending over', 'graphs to compromise/strengthen the capability of LLMs in completing downstream tasks.', '', 'Figure 8: (a) The textual similarity of sent emails by pairs of', 'employees grouped based on their job titles; (b) The distribution of passage length for each dataset.', '', 'Figure 9: Correlation analysis between the textual similarity', 'and proximity-based topological similarity over six datasets.', 'The correlation shown beside the dataset name is positive', 'across different datasets from different domains.', '', '# Acknowledgements', 'This research is suppo']\n"
     ]
    }
   ],
   "source": [
    "def process_page_chunks(data, real_page_number):\n",
    "\n",
    "    page_label = f\"page_{real_page_number}\"\n",
    "    \n",
    "    # Find the corresponding key (e.g., \"0\") for this page label\n",
    "    matching_key = None\n",
    "    for k, v in data[\"Pages\"].items():\n",
    "        if v == page_label:\n",
    "            matching_key = k\n",
    "            break\n",
    "\n",
    "    if matching_key is None:\n",
    "        raise ValueError(f\"Page {real_page_number} ('{page_label}') not found in data['Pages'].\")\n",
    "\n",
    "    chunks = data[\"Chunks\"].get(matching_key, [])\n",
    "    all_lines = []\n",
    "    for chunk in chunks:\n",
    "            raw_lines = chunk.split('\\n')\n",
    "            i = 0\n",
    "            while i < len(raw_lines):\n",
    "                line = raw_lines[i]\n",
    "                if line.endswith('-') and i + 1 < len(raw_lines):\n",
    "                    merged = line[:-1] + raw_lines[i + 1].lstrip()\n",
    "                    all_lines.append(merged)\n",
    "                    i += 2\n",
    "                else:\n",
    "                    all_lines.append(line)\n",
    "                    i += 1\n",
    "\n",
    "    return all_lines\n",
    "\n",
    "\n",
    "\n",
    "chunks = {'Pages': {'0': 'page_8', '1': 'page_9'}, 'Chunks': {'0': ['feature rates from 0.1 to 0.9. We can observe that\\nTopoRAG consistently outperforms other strategies in both node\\nclassification and link prediction across all rates of missing features.\\nThis underscores the benefits of incorporating additional context\\nin handling missing feature issues on graphs.\\n\\n# 6.4 Feature Imputation with TopoRAG\\nMany machine learning models assume a fully observed feature\\nmatrix. However, in practice, each feature is only observed for a\\nsubset of nodes due to constraints like privacy concerns or limited\\nresources for data annotation [67]. In all these scenarios, the missing\\nfeature issues could catastrophically compromise the capability of\\nmachine learning models [47], which motivates many previous\\nworks developing solutions to handling missing feature issue [68].\\n\\nSince our proposed TopoRAG can naturally generate node fea-\\ntures in graph-based datasets, in this section, we evaluate its effec-\\ntiveness in handling missing features by comparing its performance\\n\\n#', 'al\\nmethods by equipping it with topology awareness. Different from\\nKG-based RAG where topology information is incorporated by re-\\ntrieving triples from subgraphs around entities mentioned in the\\nquestion [61], we explicitly consider proximity and role-based topo-\\nlogical relations in guiding the retrieval, the related works of which\\nare reviewed next.\\n\\n'], '1': ['ce domains. This\\nfurther justifies why TopoRAG achieves almost consistently higher\\nperformance than other baselines on all these datasets.\\n\\n', '-RAG in\\naddressing missing feature issues in graph machine learning tasks.\\n\\nRecognizing the importance of not only considering the quantity\\nbut also the structure of input knowledge in text generation [62],\\nfuture work will focus on optimizing input formats by leverag-\\ning topological signals for question-answering and text-generation\\ntasks. Moreover, we plan to assess the robustness of the TopoRAG\\nframework by exploring the potential of attacking/defending over\\ngraphs to compromise/strengthen the capability of LLMs in com-\\npleting downstream tasks.\\n\\nFigure 8: (a) The textual similarity of sent emails by pairs of\\nemployees grouped based on their job titles; (b) The distribu-\\ntion of passage length for each dataset.\\n\\nFigure 9: Correlation analysis between the textual similarity\\nand proximity-based topological similarity over six datasets.\\nThe correlation shown beside the dataset name is positive\\nacross different datasets from different domains.\\n\\n# Acknowledgements\\nThis research is suppo']}}\n",
    "search_texts = process_page_chunks(chunks,9)\n",
    "print(search_texts)"
   ]
  },
  {
   "cell_type": "code",
   "execution_count": 47,
   "metadata": {},
   "outputs": [
    {
     "ename": "TypeError",
     "evalue": "in method 'JM_search_stext_page', argument 2 of type 'char const *'",
     "output_type": "error",
     "traceback": [
      "\u001b[0;31m---------------------------------------------------------------------------\u001b[0m",
      "\u001b[0;31mTypeError\u001b[0m                                 Traceback (most recent call last)",
      "Cell \u001b[0;32mIn[47], line 48\u001b[0m\n\u001b[1;32m     44\u001b[0m page_num \u001b[38;5;241m=\u001b[39m \u001b[38;5;241m8\u001b[39m  \u001b[38;5;66;03m# Page number (0-based indexing)\u001b[39;00m\n\u001b[1;32m     46\u001b[0m output_file \u001b[38;5;241m=\u001b[39m \u001b[38;5;124m\"\u001b[39m\u001b[38;5;124mhighlighted_page.png\u001b[39m\u001b[38;5;124m\"\u001b[39m\n\u001b[0;32m---> 48\u001b[0m image_path \u001b[38;5;241m=\u001b[39m \u001b[43mcreate_highlighted_page_image\u001b[49m\u001b[43m(\u001b[49m\n\u001b[1;32m     49\u001b[0m \u001b[43m    \u001b[49m\u001b[43mpdf_file\u001b[49m\u001b[43m,\u001b[49m\u001b[43m \u001b[49m\n\u001b[1;32m     50\u001b[0m \u001b[43m    \u001b[49m\u001b[43mpage_num\u001b[49m\u001b[43m,\u001b[49m\u001b[43m \u001b[49m\n\u001b[1;32m     51\u001b[0m \u001b[43m    \u001b[49m\u001b[43msearch_texts\u001b[49m\u001b[43m,\u001b[49m\n\u001b[1;32m     52\u001b[0m \u001b[43m    \u001b[49m\u001b[43moutput_file\u001b[49m\u001b[43m,\u001b[49m\n\u001b[1;32m     53\u001b[0m \u001b[43m    \u001b[49m\u001b[43mhighlight_color\u001b[49m\u001b[38;5;241;43m=\u001b[39;49m\u001b[43m(\u001b[49m\u001b[38;5;241;43m1\u001b[39;49m\u001b[43m,\u001b[49m\u001b[43m \u001b[49m\u001b[38;5;241;43m1\u001b[39;49m\u001b[43m,\u001b[49m\u001b[43m \u001b[49m\u001b[38;5;241;43m0\u001b[39;49m\u001b[43m)\u001b[49m\u001b[43m  \u001b[49m\u001b[38;5;66;43;03m# Yellow highlight\u001b[39;49;00m\n\u001b[1;32m     54\u001b[0m \u001b[43m\u001b[49m\u001b[43m)\u001b[49m\n\u001b[1;32m     56\u001b[0m \u001b[38;5;28mprint\u001b[39m(\u001b[38;5;124mf\u001b[39m\u001b[38;5;124m\"\u001b[39m\u001b[38;5;124mCreated image with highlighted text: \u001b[39m\u001b[38;5;132;01m{\u001b[39;00mimage_path\u001b[38;5;132;01m}\u001b[39;00m\u001b[38;5;124m\"\u001b[39m)\n",
      "Cell \u001b[0;32mIn[47], line 22\u001b[0m, in \u001b[0;36mcreate_highlighted_page_image\u001b[0;34m(pdf_path, page_number, texts_to_highlight, dpi, highlight_color)\u001b[0m\n\u001b[1;32m     19\u001b[0m highlight_count \u001b[38;5;241m=\u001b[39m \u001b[38;5;241m0\u001b[39m\n\u001b[1;32m     21\u001b[0m \u001b[38;5;28;01mfor\u001b[39;00m text \u001b[38;5;129;01min\u001b[39;00m texts_to_highlight:\n\u001b[0;32m---> 22\u001b[0m     text_instances \u001b[38;5;241m=\u001b[39m \u001b[43mpage\u001b[49m\u001b[38;5;241;43m.\u001b[39;49m\u001b[43msearch_for\u001b[49m\u001b[43m(\u001b[49m\u001b[43mtext\u001b[49m\u001b[43m)\u001b[49m\n\u001b[1;32m     23\u001b[0m     \u001b[38;5;28;01mif\u001b[39;00m text_instances:\n\u001b[1;32m     24\u001b[0m         \u001b[38;5;28;01mfor\u001b[39;00m inst \u001b[38;5;129;01min\u001b[39;00m text_instances:\n",
      "File \u001b[0;32m~/Documents/projects/diploma_project/topological rag/myenv/lib/python3.10/site-packages/pymupdf/utils.py:427\u001b[0m, in \u001b[0;36msearch_for\u001b[0;34m(page, text, clip, quads, flags, textpage)\u001b[0m\n\u001b[1;32m    425\u001b[0m \u001b[38;5;28;01melif\u001b[39;00m \u001b[38;5;28mgetattr\u001b[39m(tp, \u001b[38;5;124m\"\u001b[39m\u001b[38;5;124mparent\u001b[39m\u001b[38;5;124m\"\u001b[39m) \u001b[38;5;241m!=\u001b[39m page:\n\u001b[1;32m    426\u001b[0m     \u001b[38;5;28;01mraise\u001b[39;00m \u001b[38;5;167;01mValueError\u001b[39;00m(\u001b[38;5;124m\"\u001b[39m\u001b[38;5;124mnot a textpage of this page\u001b[39m\u001b[38;5;124m\"\u001b[39m)\n\u001b[0;32m--> 427\u001b[0m rlist \u001b[38;5;241m=\u001b[39m \u001b[43mtp\u001b[49m\u001b[38;5;241;43m.\u001b[39;49m\u001b[43msearch\u001b[49m\u001b[43m(\u001b[49m\u001b[43mtext\u001b[49m\u001b[43m,\u001b[49m\u001b[43m \u001b[49m\u001b[43mquads\u001b[49m\u001b[38;5;241;43m=\u001b[39;49m\u001b[43mquads\u001b[49m\u001b[43m)\u001b[49m\n\u001b[1;32m    428\u001b[0m \u001b[38;5;28;01mif\u001b[39;00m textpage \u001b[38;5;129;01mis\u001b[39;00m \u001b[38;5;28;01mNone\u001b[39;00m:\n\u001b[1;32m    429\u001b[0m     \u001b[38;5;28;01mdel\u001b[39;00m tp\n",
      "File \u001b[0;32m~/Documents/projects/diploma_project/topological rag/myenv/lib/python3.10/site-packages/pymupdf/__init__.py:12801\u001b[0m, in \u001b[0;36mTextPage.search\u001b[0;34m(self, needle, hit_max, quads)\u001b[0m\n\u001b[1;32m  12799\u001b[0m \u001b[38;5;28;01mdef\u001b[39;00m\u001b[38;5;250m \u001b[39m\u001b[38;5;21msearch\u001b[39m(\u001b[38;5;28mself\u001b[39m, needle, hit_max\u001b[38;5;241m=\u001b[39m\u001b[38;5;241m0\u001b[39m, quads\u001b[38;5;241m=\u001b[39m\u001b[38;5;241m1\u001b[39m):\n\u001b[1;32m  12800\u001b[0m \u001b[38;5;250m    \u001b[39m\u001b[38;5;124;03m\"\"\"Locate 'needle' returning rects or quads.\"\"\"\u001b[39;00m\n\u001b[0;32m> 12801\u001b[0m     val \u001b[38;5;241m=\u001b[39m \u001b[43mJM_search_stext_page\u001b[49m\u001b[43m(\u001b[49m\u001b[38;5;28;43mself\u001b[39;49m\u001b[38;5;241;43m.\u001b[39;49m\u001b[43mthis\u001b[49m\u001b[43m,\u001b[49m\u001b[43m \u001b[49m\u001b[43mneedle\u001b[49m\u001b[43m)\u001b[49m\n\u001b[1;32m  12802\u001b[0m     \u001b[38;5;28;01mif\u001b[39;00m \u001b[38;5;129;01mnot\u001b[39;00m val:\n\u001b[1;32m  12803\u001b[0m         \u001b[38;5;28;01mreturn\u001b[39;00m val\n",
      "File \u001b[0;32m~/Documents/projects/diploma_project/topological rag/myenv/lib/python3.10/site-packages/pymupdf/__init__.py:17237\u001b[0m, in \u001b[0;36mJM_search_stext_page\u001b[0;34m(page, needle)\u001b[0m\n\u001b[1;32m  17235\u001b[0m \u001b[38;5;28;01mdef\u001b[39;00m\u001b[38;5;250m \u001b[39m\u001b[38;5;21mJM_search_stext_page\u001b[39m(page, needle):\n\u001b[1;32m  17236\u001b[0m     \u001b[38;5;28;01mif\u001b[39;00m g_use_extra:\n\u001b[0;32m> 17237\u001b[0m         \u001b[38;5;28;01mreturn\u001b[39;00m \u001b[43mextra\u001b[49m\u001b[38;5;241;43m.\u001b[39;49m\u001b[43mJM_search_stext_page\u001b[49m\u001b[43m(\u001b[49m\u001b[43mpage\u001b[49m\u001b[38;5;241;43m.\u001b[39;49m\u001b[43mm_internal\u001b[49m\u001b[43m,\u001b[49m\u001b[43m \u001b[49m\u001b[43mneedle\u001b[49m\u001b[43m)\u001b[49m\n\u001b[1;32m  17239\u001b[0m     rect \u001b[38;5;241m=\u001b[39m mupdf\u001b[38;5;241m.\u001b[39mFzRect(page\u001b[38;5;241m.\u001b[39mm_internal\u001b[38;5;241m.\u001b[39mmediabox)\n\u001b[1;32m  17240\u001b[0m     \u001b[38;5;28;01mif\u001b[39;00m \u001b[38;5;129;01mnot\u001b[39;00m needle:\n",
      "File \u001b[0;32m~/Documents/projects/diploma_project/topological rag/myenv/lib/python3.10/site-packages/pymupdf/extra.py:207\u001b[0m, in \u001b[0;36mJM_search_stext_page\u001b[0;34m(page, needle)\u001b[0m\n\u001b[1;32m    206\u001b[0m \u001b[38;5;28;01mdef\u001b[39;00m\u001b[38;5;250m \u001b[39m\u001b[38;5;21mJM_search_stext_page\u001b[39m(page, needle):\n\u001b[0;32m--> 207\u001b[0m     \u001b[38;5;28;01mreturn\u001b[39;00m \u001b[43m_extra\u001b[49m\u001b[38;5;241;43m.\u001b[39;49m\u001b[43mJM_search_stext_page\u001b[49m\u001b[43m(\u001b[49m\u001b[43mpage\u001b[49m\u001b[43m,\u001b[49m\u001b[43m \u001b[49m\u001b[43mneedle\u001b[49m\u001b[43m)\u001b[49m\n",
      "\u001b[0;31mTypeError\u001b[0m: in method 'JM_search_stext_page', argument 2 of type 'char const *'"
     ]
    }
   ],
   "source": [
    "import fitz  # PyMuPDF\n",
    "from PIL import Image\n",
    "import io\n",
    "\n",
    "def create_highlighted_page_image(pdf_path, page_number, texts_to_highlight, \n",
    "                                  dpi=300, highlight_color=(1, 0.8, 0)):\n",
    "    # Open the PDF document\n",
    "    doc = fitz.open(pdf_path)\n",
    "    \n",
    "    # Make sure page number is valid\n",
    "    if page_number < 0 or page_number >= len(doc):\n",
    "        raise ValueError(f\"Page number {page_number} is out of range (document has {len(doc)} pages)\")\n",
    "    \n",
    "    page = doc[page_number]\n",
    "    \n",
    "    if isinstance(texts_to_highlight, str):\n",
    "        texts_to_highlight = [texts_to_highlight]\n",
    "    \n",
    "    highlight_count = 0\n",
    "    \n",
    "    for text in texts_to_highlight:\n",
    "        text_instances = page.search_for(text)\n",
    "        if text_instances:\n",
    "            for inst in text_instances:\n",
    "                highlight = page.add_highlight_annot(inst)\n",
    "                highlight.set_colors(stroke=highlight_color)\n",
    "                highlight.update()\n",
    "                highlight_count += 1\n",
    "    \n",
    "    # Generate a pixmap (image) of the page\n",
    "    zoom = dpi / 72  # Standard PDF is 72 dpi\n",
    "    matrix = fitz.Matrix(zoom, zoom)\n",
    "    pixmap = page.get_pixmap(matrix=matrix, alpha=False)\n",
    "    \n",
    "    # Convert pixmap to PIL Image\n",
    "    img_data = pixmap.tobytes(\"png\")\n",
    "    img = Image.open(io.BytesIO(img_data))\n",
    "    \n",
    "    return img\n",
    "\n",
    "# Example usage\n",
    "if __name__ == \"__main__\":\n",
    "    pdf_file = \"Topology-aware-RAG.pdf\"\n",
    "    page_num = 8  # Page number (0-based indexing)\n",
    "    \n",
    "    output_file = \"highlighted_page.png\"\n",
    "    \n",
    "    image_path = create_highlighted_page_image(\n",
    "        pdf_file, \n",
    "        page_num, \n",
    "        search_texts,\n",
    "        output_file,\n",
    "        highlight_color=(1, 1, 0)  # Yellow highlight\n",
    "    )\n",
    "    \n",
    "    print(f\"Created image with highlighted text: {image_path}\")\n"
   ]
  }
 ],
 "metadata": {
  "kernelspec": {
   "display_name": "myenv",
   "language": "python",
   "name": "python3"
  },
  "language_info": {
   "codemirror_mode": {
    "name": "ipython",
    "version": 3
   },
   "file_extension": ".py",
   "mimetype": "text/x-python",
   "name": "python",
   "nbconvert_exporter": "python",
   "pygments_lexer": "ipython3",
   "version": "3.10.0"
  }
 },
 "nbformat": 4,
 "nbformat_minor": 2
}
